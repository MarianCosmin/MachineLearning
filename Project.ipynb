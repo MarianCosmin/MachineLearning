{
 "cells": [
  {
   "cell_type": "code",
   "execution_count": 26,
   "metadata": {
    "collapsed": false,
    "scrolled": true
   },
   "outputs": [],
   "source": [
    "from PIL import Image\n",
    "import numpy as np\n",
    "\n",
    "def rgb_to_int(r,g,b):\n",
    "    return (r<<16) + (g<<8) + b\n",
    "\n",
    "def read_data(filename):\n",
    "    coordinates = []\n",
    "    colors = []\n",
    "    back_color = rgb_to_int(255,255,255)\n",
    "    \n",
    "    image = Image.open(filename)\n",
    "    col,row = image.size\n",
    "    pixels = image.load()\n",
    "\n",
    "    for i in range(row):\n",
    "        for j in range(col):\n",
    "            r,g,b = pixels[i,j]\n",
    "            color = rgb_to_int(r,g,b)\n",
    "            \n",
    "            if (color != back_color):\n",
    "                coordinates.append([i,j])\n",
    "                colors.append(color)\n",
    "    return coordinates,colors\n",
    "\n",
    "coordinates,colors = read_data(\"data.png\")\n"
   ]
  },
  {
   "cell_type": "code",
   "execution_count": 2,
   "metadata": {
    "collapsed": false
   },
   "outputs": [
    {
     "data": {
      "text/plain": [
       "[0, 122]"
      ]
     },
     "execution_count": 2,
     "metadata": {},
     "output_type": "execute_result"
    }
   ],
   "source": [
    "coordinates[0]"
   ]
  },
  {
   "cell_type": "code",
   "execution_count": 3,
   "metadata": {
    "collapsed": false
   },
   "outputs": [
    {
     "data": {
      "text/plain": [
       "[[0, 122],\n",
       " [0, 123],\n",
       " [0, 124],\n",
       " [2, 11],\n",
       " [2, 12],\n",
       " [2, 13],\n",
       " [3, 11],\n",
       " [3, 12],\n",
       " [3, 13],\n",
       " [3, 126]]"
      ]
     },
     "execution_count": 3,
     "metadata": {},
     "output_type": "execute_result"
    }
   ],
   "source": [
    "coordinates[:10]"
   ]
  },
  {
   "cell_type": "code",
   "execution_count": 4,
   "metadata": {
    "collapsed": false
   },
   "outputs": [
    {
     "data": {
      "text/plain": [
       "[255,\n",
       " 255,\n",
       " 255,\n",
       " 16711680,\n",
       " 16711680,\n",
       " 16711680,\n",
       " 16711680,\n",
       " 16711680,\n",
       " 16711680,\n",
       " 255]"
      ]
     },
     "execution_count": 4,
     "metadata": {},
     "output_type": "execute_result"
    }
   ],
   "source": [
    "colors[:10]"
   ]
  },
  {
   "cell_type": "code",
   "execution_count": 27,
   "metadata": {
    "collapsed": true
   },
   "outputs": [],
   "source": [
    "from sklearn.cross_validation import train_test_split\n",
    "coordinates_train, coordinates_test, colors_train, colors_test = train_test_split(coordinates, colors, test_size=0.2)"
   ]
  },
  {
   "cell_type": "code",
   "execution_count": 6,
   "metadata": {
    "collapsed": false
   },
   "outputs": [
    {
     "data": {
      "text/plain": [
       "SVC(C=1.0, cache_size=200, class_weight=None, coef0=0.0,\n",
       "  decision_function_shape=None, degree=3, gamma='auto', kernel='rbf',\n",
       "  max_iter=-1, probability=False, random_state=None, shrinking=True,\n",
       "  tol=0.001, verbose=False)"
      ]
     },
     "execution_count": 6,
     "metadata": {},
     "output_type": "execute_result"
    }
   ],
   "source": [
    "from sklearn import svm\n",
    "clf = svm.SVC()\n",
    "clf.fit(coordinates_train, colors_train) "
   ]
  },
  {
   "cell_type": "code",
   "execution_count": 7,
   "metadata": {
    "collapsed": false
   },
   "outputs": [
    {
     "data": {
      "text/plain": [
       "array([16711680,      255, 16711680, 16711680, 16711680, 16711680,\n",
       "       16711680,      255, 16711680,      255])"
      ]
     },
     "execution_count": 7,
     "metadata": {},
     "output_type": "execute_result"
    }
   ],
   "source": [
    "colors_pred = clf.predict(coordinates_test)\n",
    "colors_pred[:10]"
   ]
  },
  {
   "cell_type": "code",
   "execution_count": 33,
   "metadata": {
    "collapsed": false
   },
   "outputs": [
    {
     "data": {
      "text/plain": [
       "array([     255,      255, 16711680, 16711680, 16711680,      255,\n",
       "            255,      255, 16711680,      255])"
      ]
     },
     "execution_count": 33,
     "metadata": {},
     "output_type": "execute_result"
    }
   ],
   "source": [
    "#test cu parametrii modificati\n",
    "from sklearn import svm\n",
    "clf = svm.SVC(C=10.0, cache_size=200, class_weight=None, coef0=0.0,\n",
    "  decision_function_shape=None, degree=2, gamma='auto', kernel='poly',\n",
    "  max_iter=-1, probability=False, random_state=None, shrinking=True,\n",
    "  tol=0.0001, verbose=False)\n",
    "clf.fit(coordinates_train, colors_train) \n",
    "from sklearn.metrics import accuracy_score\n",
    "colors_pred = clf.predict(coordinates_test)\n",
    "colors_pred[:10]\n"
   ]
  },
  {
   "cell_type": "code",
   "execution_count": 29,
   "metadata": {
    "collapsed": false,
    "scrolled": true
   },
   "outputs": [
    {
     "data": {
      "image/png": "[encoded data removed]",
      "text/plain": [
       "<matplotlib.figure.Figure at 0x7f267efbe5f8>"
      ]
     },
     "metadata": {},
     "output_type": "display_data"
    }
   ],
   "source": [
    "import matplotlib\n",
    "import numpy as np\n",
    "import matplotlib.pyplot as plt\n",
    "%matplotlib inline \n",
    "\n",
    "\n",
    "loss=abs(colors_test-colors_pred)\n",
    "plt.plot(range(len(colors_test)), loss)\n",
    "\n",
    "plt.title('Loss')\n",
    "plt.xlabel=('Predicted Values')\n",
    "plt.ylabel=('Loss')\n",
    "plt.show()\n"
   ]
  },
  {
   "cell_type": "code",
   "execution_count": 30,
   "metadata": {
    "collapsed": false
   },
   "outputs": [
    {
     "data": {
      "text/plain": [
       "0.62637362637362637"
      ]
     },
     "execution_count": 30,
     "metadata": {},
     "output_type": "execute_result"
    }
   ],
   "source": [
    "from sklearn.metrics import accuracy_score\n",
    "accuracy0=accuracy_score(colors_test, colors_pred)\n",
    "accuracy0"
   ]
  },
  {
   "cell_type": "code",
   "execution_count": 22,
   "metadata": {
    "collapsed": true
   },
   "outputs": [],
   "source": [
    "def getRGBfromI(RGBint):#convert int color code to rgb color code\n",
    "    blue =  RGBint & 255\n",
    "    green = (RGBint >> 8) & 255\n",
    "    red =   (RGBint >> 16) & 255\n",
    "    return red, green, blue\n",
    "\n",
    "\n",
    "def save_data(width, height, pixels, colors):\n",
    "    \n",
    "    im = Image.new(\"RGB\", (width, height))\n",
    "    pix = im.load()\n",
    "    for i in range(len(pixels)):\n",
    "             pix[pixels[i][0],pixels[i][1]] = getRGBfromI(colors[i])\n",
    "\n",
    "    im.save(\"test0.png\", \"PNG\")    \n",
    "    \n",
    "points = []\n",
    "for i in range (200): #this is hardcoded\n",
    "    for j in range(200):\n",
    "        points.append([i,j])\n",
    "\n",
    "pred_colors = clf.predict(points)\n",
    "\n",
    "save_data(200,200,points,pred_colors)"
   ]
  },
  {
   "cell_type": "code",
   "execution_count": 12,
   "metadata": {
    "collapsed": true
   },
   "outputs": [],
   "source": [
    "x_train, x_test, y_train, y_test = train_test_split(coordinates, colors, test_size=0.3)"
   ]
  },
  {
   "cell_type": "code",
   "execution_count": 31,
   "metadata": {
    "collapsed": false
   },
   "outputs": [
    {
     "data": {
      "text/plain": [
       "SVC(C=10.0, cache_size=200, class_weight=None, coef0=0.0,\n",
       "  decision_function_shape=None, degree=2, gamma='auto', kernel='poly',\n",
       "  max_iter=-1, probability=False, random_state=None, shrinking=True,\n",
       "  tol=0.0001, verbose=False)"
      ]
     },
     "execution_count": 31,
     "metadata": {},
     "output_type": "execute_result"
    }
   ],
   "source": [
    "from sklearn import svm\n",
    "svm.SVC(C=1.0, cache_size=200, class_weight=None, coef0=0.0,\n",
    "  decision_function_shape=None, degree=3, gamma='auto', kernel='rbf',\n",
    "  max_iter=-1, probability=True, random_state=None, shrinking=True,\n",
    "  tol=0.001, verbose=False)\n",
    "clf.fit(coordinates_train, colors_train) \n"
   ]
  },
  {
   "cell_type": "code",
   "execution_count": 14,
   "metadata": {
    "collapsed": false
   },
   "outputs": [
    {
     "data": {
      "text/plain": [
       "array([16711680,      255, 16711680, 16711680, 16711680, 16711680,\n",
       "       16711680,      255, 16711680,      255])"
      ]
     },
     "execution_count": 14,
     "metadata": {},
     "output_type": "execute_result"
    }
   ],
   "source": [
    "colors_pred = clf.predict(coordinates_test)\n",
    "colors_pred[:10]"
   ]
  },
  {
   "cell_type": "code",
   "execution_count": 32,
   "metadata": {
    "collapsed": false
   },
   "outputs": [
    {
     "data": {
      "image/png": "[encoded data removed]",
      "text/plain": [
       "<matplotlib.figure.Figure at 0x7f267eb31da0>"
      ]
     },
     "metadata": {},
     "output_type": "display_data"
    }
   ],
   "source": [
    "import matplotlib\n",
    "import numpy as np\n",
    "import matplotlib.pyplot as plt\n",
    "%matplotlib inline \n",
    "\n",
    "accuracy=abs(colors_test-colors_pred)\n",
    "plt.plot(range(len(colors_test)), accuracy)\n",
    "\n",
    "plt.title('Loss')\n",
    "plt.xlabel=('Predicted Values')\n",
    "plt.ylabel=('Loss')\n",
    "plt.show()\n"
   ]
  },
  {
   "cell_type": "code",
   "execution_count": 16,
   "metadata": {
    "collapsed": false
   },
   "outputs": [
    {
     "data": {
      "text/plain": [
       "1.0"
      ]
     },
     "execution_count": 16,
     "metadata": {},
     "output_type": "execute_result"
    }
   ],
   "source": [
    "from sklearn.metrics import accuracy_score\n",
    "accuracy1=accuracy_score(colors_test, colors_pred)\n",
    "accuracy1"
   ]
  },
  {
   "cell_type": "code",
   "execution_count": 17,
   "metadata": {
    "collapsed": false
   },
   "outputs": [
    {
     "data": {
      "text/plain": [
       "0.0"
      ]
     },
     "execution_count": 17,
     "metadata": {},
     "output_type": "execute_result"
    }
   ],
   "source": [
    "deltaAccuracy=accuracy0-accuracy1\n",
    "deltaAccuracy"
   ]
  },
  {
   "cell_type": "code",
   "execution_count": 18,
   "metadata": {
    "collapsed": true
   },
   "outputs": [],
   "source": [
    "\n",
    "def getRGBfromI(RGBint):#convert int color code to rgb color code\n",
    "    blue =  RGBint & 255\n",
    "    green = (RGBint >> 8) & 255\n",
    "    red =   (RGBint >> 16) & 255\n",
    "    return red, green, blue\n",
    "\n",
    "\n",
    "def save_data(width, height, pixels, colors):\n",
    "    \n",
    "    im = Image.new(\"RGB\", (width, height))\n",
    "    pix = im.load()\n",
    "    for i in range(len(pixels)):\n",
    "             pix[pixels[i][0],pixels[i][1]] = getRGBfromI(colors[i])\n",
    "\n",
    "    im.save(\"test1.png\", \"PNG\")    \n",
    "    \n",
    "points = []\n",
    "for i in range (200): #this is hardcoded\n",
    "    for j in range(200):\n",
    "        points.append([i,j])\n",
    "\n",
    "pred_colors = clf.predict(points)\n",
    "\n",
    "save_data(200,200,points,pred_colors)"
   ]
  }
 ],
 "metadata": {
  "anaconda-cloud": {},
  "kernelspec": {
   "display_name": "Python [conda root]",
   "language": "python",
   "name": "conda-root-py"
  },
  "language_info": {
   "codemirror_mode": {
    "name": "ipython",
    "version": 3
   },
   "file_extension": ".py",
   "mimetype": "text/x-python",
   "name": "python",
   "nbconvert_exporter": "python",
   "pygments_lexer": "ipython3",
   "version": "3.5.2"
  }
 },
 "nbformat": 4,
 "nbformat_minor": 1
}
